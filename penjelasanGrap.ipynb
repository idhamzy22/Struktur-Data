{
 "cells": [
  {
   "cell_type": "markdown",
   "metadata": {},
   "source": [
    "1. Carilah jalur edge A sampai K dari gambar graf diatas berikut.\n",
    "\n",
    "-Jalur terpendek dari A ke K :\n",
    "* A -> C\n",
    "* C -> E\n",
    "* E -> H\n",
    "* H -> J\n",
    "* J -> K\n",
    "\n",
    "( 15 + 7 + 12 + 3 + 7 ) = 44\n",
    "\n",
    "\n",
    "2. Tuliskan edge edge yang terhubung berdasarkan Directed Graph.\n",
    "\n",
    "* A -> C\n",
    "* B -> A\n",
    "* B -> C\n",
    "* C -> D\n",
    "* C -> H\n",
    "* C -> G\n",
    "* E -> C\n",
    "* F -> E\n",
    "* F -> H\n",
    "* H -> I\n",
    "* I -> G\n",
    "* I -> J\n",
    "* J -> K\n",
    "* K -> H\n",
    "* K -> F\n",
    "\n"
   ]
  }
 ],
 "metadata": {
  "language_info": {
   "name": "python"
  }
 },
 "nbformat": 4,
 "nbformat_minor": 2
}
